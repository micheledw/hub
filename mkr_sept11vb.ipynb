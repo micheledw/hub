{
  "nbformat": 4,
  "nbformat_minor": 0,
  "metadata": {
    "colab": {
      "name": "mkr-sept11vb.ipynb",
      "version": "0.3.2",
      "provenance": [],
      "include_colab_link": true
    },
    "kernelspec": {
      "name": "python3",
      "display_name": "Python 3"
    }
  },
  "cells": [
    {
      "cell_type": "markdown",
      "metadata": {
        "id": "view-in-github",
        "colab_type": "text"
      },
      "source": [
        "[View in Colaboratory](https://colab.research.google.com/github/micheledw/hub/blob/master/mkr_sept11vb.ipynb)"
      ]
    },
    {
      "metadata": {
        "id": "gqXYLRHYVFre",
        "colab_type": "code",
        "colab": {
          "base_uri": "https://localhost:8080/",
          "height": 68
        },
        "outputId": "f9471cd1-9a6f-433e-d559-e90016a33a93"
      },
      "cell_type": "code",
      "source": [
        "%reset\n",
        "#%cd RankNet\n",
        "# Install the latest Tensorflow version.\n",
        "!pip3 install --quiet \"tensorflow>=1.7\"\n",
        "# Install TF-Hub.\n",
        "!pip3 install --quiet tensorflow-hub\n",
        "!pip3 install --quiet seaborn\n",
        "!pip3 install --quiet chainer\n",
        "#!pip3 install --quiet net\n",
        "import pandas \n",
        "import tensorflow as tf\n",
        "import tensorflow_hub as hub\n",
        "import matplotlib.pyplot as plt\n",
        "import numpy as np\n",
        "import os\n",
        "import pandas as pd\n",
        "import re\n",
        "import seaborn as sns\n",
        "import numpy as np\n",
        "from chainer import Variable, optimizers\n",
        "from sklearn.cross_validation import train_test_split\n",
        "import matplotlib.pyplot as plt\n",
        "import seaborn as sns\n",
        "import nltk\n",
        "import json\n",
        "nltk.download('punkt')\n",
        "from keras import backend\n",
        "from keras.layers import Activation, Dense, Input, Subtract\n",
        "from keras.models import Model\n",
        "\n",
        "\n",
        "\n",
        "\n"
      ],
      "execution_count": 73,
      "outputs": [
        {
          "output_type": "stream",
          "text": [
            "Once deleted, variables cannot be recovered. Proceed (y/[n])? y\n",
            "[nltk_data] Downloading package punkt to /root/nltk_data...\n",
            "[nltk_data]   Package punkt is already up-to-date!\n"
          ],
          "name": "stdout"
        }
      ]
    },
    {
      "metadata": {
        "id": "wyprMeGlkq50",
        "colab_type": "code",
        "colab": {}
      },
      "cell_type": "code",
      "source": [
        "np.random.seed(0)\n",
        "n_dim = 5\n",
        "n_rank = 5\n",
        "n_sample = 8\n",
        "sigma = 5.\n",
        "n_iter = 20\n",
        "n_hidden = 5\n",
        "loss_step = 1\n",
        "train_ndcgs = []\n",
        "test_ndcgs = []"
      ],
      "execution_count": 0,
      "outputs": []
    },
    {
      "metadata": {
        "id": "8ffrQwFZMWic",
        "colab_type": "code",
        "colab": {
          "base_uri": "https://localhost:8080/",
          "height": 51
        },
        "outputId": "a37f5e45-bf24-4279-83d8-0c9cbb5aa0ee"
      },
      "cell_type": "code",
      "source": [
        "#!git clone 'https://github.com/szdr/RankNet.git'\n",
        "%cd RankNet\n",
        "\n",
        "import net"
      ],
      "execution_count": 75,
      "outputs": [
        {
          "output_type": "stream",
          "text": [
            "[Errno 2] No such file or directory: 'RankNet'\n",
            "/content/RankNet\n"
          ],
          "name": "stdout"
        }
      ]
    },
    {
      "metadata": {
        "id": "ky6D20paVyDx",
        "colab_type": "code",
        "colab": {}
      },
      "cell_type": "code",
      "source": [
        "module_url = \"https://tfhub.dev/google/universal-sentence-encoder/2\" #@param [\"https://tfhub.dev/google/universal-sentence-encoder/2\", \"https://tfhub.dev/google/universal-sentence-encoder-large/3\"]\n",
        "  "
      ],
      "execution_count": 0,
      "outputs": []
    },
    {
      "metadata": {
        "id": "FJMFf7hYqnlh",
        "colab_type": "code",
        "colab": {}
      },
      "cell_type": "code",
      "source": [
        "embed = hub.Module(module_url)"
      ],
      "execution_count": 0,
      "outputs": []
    },
    {
      "metadata": {
        "id": "hNg3G4v1qJrC",
        "colab_type": "code",
        "colab": {}
      },
      "cell_type": "code",
      "source": [
        "datastore=!wget https://rajpurkar.github.io/SQuAD-explorer/dataset/train-v2.0.json\n",
        "############################3this command will load the first question in the first paragraph\n",
        "\n",
        "\n",
        "with open(\"train-v2.0.json\", 'r') as f:\n",
        "     datastore = json.load(f)\n",
        "\n",
        "\n",
        "############################3this command will load the first question in the first paragraph\n",
        "sentence =datastore['data'][0]['paragraphs'][0]['qas'][1]['question']\n",
        "\n",
        "################### this will parse the context paragph to different sentences\n",
        "paragraph=datastore['data'][0]['paragraphs'][0]['context']\n",
        "words = []\n",
        "separators = ['.',',',':',';']\n",
        "oldValue = 0\n",
        "for value in range(len(paragraph)):\n",
        "    if paragraph[value] in separators:\n",
        "        words.append(paragraph[oldValue:value+1])\n",
        "        oldValue = value+2\n",
        "#####divide the paragrpah into senetnces\"\n",
        "from nltk import tokenize\n",
        "tf.logging.set_verbosity(tf.logging.ERROR)\n",
        "a5=tokenize.sent_tokenize(paragraph)\n"
      ],
      "execution_count": 0,
      "outputs": []
    },
    {
      "metadata": {
        "id": "YPo9aksZsTGI",
        "colab_type": "code",
        "colab": {}
      },
      "cell_type": "code",
      "source": [
        "###### calculate the similarity using an encoder\n",
        "for i in a5:\n",
        "   messages = [sentence, i]\n",
        "   with tf.Session() as session:\n",
        "        session.run([tf.global_variables_initializer(), tf.tables_initializer()])\n",
        "        message_embeddings = session.run(embed(messages))\n",
        "  \n",
        "  \n",
        " \n"
      ],
      "execution_count": 0,
      "outputs": []
    },
    {
      "metadata": {
        "id": "SCjVkM7SrD6p",
        "colab_type": "code",
        "colab": {
          "base_uri": "https://localhost:8080/",
          "height": 54
        },
        "outputId": "35843880-445f-4f44-db6e-8f1f9f5f5fce"
      },
      "cell_type": "code",
      "source": [
        "import matplotlib.pyplot as plt\n",
        "import numpy as np\n",
        "\n",
        "\n",
        "plt.imshow((message_embeddings[1:200,1:200]), cmap='hot', interpolation='nearest')\n",
        "plt.show()"
      ],
      "execution_count": 88,
      "outputs": [
        {
          "output_type": "display_data",
          "data": {
            "image/png": "[encoded data removed]",
            "text/plain": [
              "<matplotlib.figure.Figure at 0x7f42c8be0f28>"
            ]
          },
          "metadata": {
            "tags": []
          }
        }
      ]
    },
    {
      "metadata": {
        "id": "L5a2jr5r2Gwd",
        "colab_type": "code",
        "colab": {
          "base_uri": "https://localhost:8080/",
          "height": 595
        },
        "outputId": "4de70ebb-05ec-45c7-d858-e73a61852d96"
      },
      "cell_type": "code",
      "source": [
        "print(message_embeddings[1:200,1:200])"
      ],
      "execution_count": 89,
      "outputs": [
        {
          "output_type": "stream",
          "text": [
            "[[ 0.01149614 -0.04873115 -0.05489853 -0.06169375 -0.01625624  0.03019183\n",
            "   0.06175865 -0.00533596  0.05588179  0.07038441 -0.04952706 -0.03712209\n",
            "   0.07336984  0.03865355  0.05380701 -0.06466025 -0.05292566  0.02280876\n",
            "   0.02149551 -0.01267796 -0.07356145  0.04531772 -0.01586394  0.00762886\n",
            "   0.06795268  0.0020005  -0.03384878 -0.05600652  0.02768302 -0.00046214\n",
            "   0.047077    0.017621    0.05736385  0.06558598  0.04738383 -0.04133804\n",
            "   0.01841523  0.02372212 -0.05704448  0.06165509  0.00370129  0.0206115\n",
            "   0.01138221 -0.07007867  0.05907781  0.03651796 -0.04494184  0.01408505\n",
            "  -0.00810467  0.00599646  0.01138149 -0.04959685  0.05225425  0.01137916\n",
            "   0.06275897  0.02356148  0.00281308 -0.06017758  0.04301034  0.03564\n",
            "  -0.06351513 -0.02716897 -0.0398301   0.0696644   0.02199467  0.0506447\n",
            "  -0.04622606  0.0663697   0.07330947 -0.03503702 -0.02095229 -0.0543015\n",
            "  -0.00385309  0.0630388   0.06156686  0.07367202 -0.03066388 -0.03995194\n",
            "   0.06348622  0.06832433  0.06387395  0.07267958  0.00759424 -0.06074495\n",
            "  -0.06382651 -0.00555041 -0.01046675  0.02760458  0.04649588  0.06678784\n",
            "   0.00037199  0.05354979  0.01571984  0.01186912  0.02516213  0.00201357\n",
            "  -0.03731037 -0.05114905 -0.04046768  0.07099981  0.04058626  0.03527391\n",
            "   0.058412    0.0611534   0.07264219  0.0678294  -0.04739325 -0.03648513\n",
            "   0.00356018 -0.06376301 -0.05033866 -0.01461991 -0.05441302 -0.06524266\n",
            "   0.03216854 -0.04238535 -0.05092075 -0.06758995  0.00533995 -0.0105866\n",
            "   0.03637962 -0.03206759  0.04810822  0.0132854  -0.04923961  0.05347575\n",
            "   0.02817092 -0.06269115 -0.0432966  -0.0616601  -0.00950256  0.06578143\n",
            "  -0.02436332  0.06167153 -0.02232358 -0.07366379  0.01132759  0.01160128\n",
            "   0.03475502  0.03945914 -0.03681822 -0.02496917 -0.0736772   0.00967412\n",
            "  -0.00642888 -0.01052792  0.06060904 -0.0105345   0.02559765  0.02716133\n",
            "  -0.0366584   0.04233694 -0.0410025  -0.03852892 -0.07300691 -0.06477721\n",
            "  -0.05083696 -0.0646842  -0.0112405  -0.01684413  0.02805229 -0.01550125\n",
            "  -0.01747544  0.07342361 -0.03663573  0.07327424  0.00700644 -0.03141524\n",
            "   0.03789678 -0.05901553 -0.030616    0.05036626 -0.06906407  0.07364122\n",
            "  -0.02455046  0.07012448  0.00874581 -0.00113749  0.06924453  0.00256418\n",
            "   0.02603135  0.03680667  0.04617253 -0.00965395 -0.02843981  0.02466249\n",
            "  -0.01793247  0.05644242  0.02137178 -0.00611722 -0.0258846  -0.04890542\n",
            "   0.01313856  0.04851054 -0.02721005  0.03668901  0.05156378  0.05680763\n",
            "   0.0346016 ]]\n"
          ],
          "name": "stdout"
        }
      ]
    },
    {
      "metadata": {
        "id": "nykHctxL2Gh9",
        "colab_type": "code",
        "colab": {}
      },
      "cell_type": "code",
      "source": [
        ""
      ],
      "execution_count": 0,
      "outputs": []
    },
    {
      "metadata": {
        "id": "uTk_XYIVEi4r",
        "colab_type": "code",
        "colab": {}
      },
      "cell_type": "code",
      "source": [
        "n_sample=512\n",
        "def make_dataset(n_dim, n_rank, n_sample, sigma):\n",
        "    #w = np.random.randn(n_dim)\n",
        "      X=message_embeddings\n",
        "    #X = np.array(X).astype(np.float32)\n",
        "      ys = np.random.random_integers(4, size=n_sample)\n",
        "      ys = np.inner(message_embeddings, message_embeddings)\n",
        "   # ys = np.reshape(np.array(ys), (-1, 1))\n",
        "      return X, ys\n",
        "  \n",
        "  \n",
        "\n"
      ],
      "execution_count": 0,
      "outputs": []
    },
    {
      "metadata": {
        "id": "yTUTjWeWmdOV",
        "colab_type": "code",
        "colab": {}
      },
      "cell_type": "code",
      "source": [
        "def ndcg(y_true, y_score, k=100):\n",
        "    y_true = y_true.ravel()\n",
        "    y_score = y_score.ravel()\n",
        "    y_true_sorted = sorted(y_true, reverse=True)\n",
        "    ideal_dcg = 0\n",
        "    for i in range(k):\n",
        "        ideal_dcg += (2 ** y_true_sorted[i] - 1.) / np.log2(i + 2)\n",
        "    dcg = 0\n",
        "    argsort_indices = np.argsort(y_score)[::-1]\n",
        "    for i in range(k):\n",
        "        dcg += (2 ** y_true[argsort_indices[i]] - 1.) / np.log2(i + 2)\n",
        "    ndcg = dcg / ideal_dcg\n",
        "    return ndcg"
      ],
      "execution_count": 0,
      "outputs": []
    },
    {
      "metadata": {
        "id": "d2ctkosfkQHm",
        "colab_type": "code",
        "colab": {
          "base_uri": "https://localhost:8080/",
          "height": 1390
        },
        "outputId": "e67bec94-46a3-4d17-8c0b-dbbc60cf0585"
      },
      "cell_type": "code",
      "source": [
        "if __name__ == '__main__':\n",
        "    np.random.seed(0)\n",
        "    n_dim = 4\n",
        "    n_rank = 5\n",
        "    n_sample = 512\n",
        "    sigma = 5.\n",
        "    X, ys = make_dataset(n_dim, n_rank, n_sample, sigma)\n",
        "    X_train, X_test, y_train, y_test = train_test_split(X, ys, test_size=0.33)\n",
        "\n",
        "    n_iter = 2000\n",
        "    n_hidden = 50\n",
        "    loss_step = 50\n",
        "    N_train = np.shape(X_train)[0]\n",
        "\n",
        "    model = net.RankNet(net.MLP(n_dim, n_hidden))\n",
        "    optimizer = optimizers.Adam()\n",
        "    optimizer.setup(model)\n",
        "\n",
        "    N_train = np.shape(X_train)[0]\n",
        "    train_ndcgs = []\n",
        "    test_ndcgs = []\n",
        "    for step in range(n_iter):\n",
        "        i, j = np.random.randint(N_train, size=2)\n",
        "        x_i = Variable(X_train[i].reshape(1, -1))\n",
        "        print(x_i.shape)\n",
        "       # print(x_i)\n",
        "        x_j = Variable(X_train[j].reshape(1, -1))\n",
        "      #  print(x_j.shape)\n",
        "        y_i = Variable(y_train[i])\n",
        "       # print(y_i.shape)\n",
        "        y_j = Variable(y_train[j])\n",
        "        #print(y_j)\n",
        "        model.zerograds()\n",
        "        loss = model(x_i, x_j, y_i, y_j)\n",
        "        loss.backward()\n",
        "        optimizer.update()\n",
        "        if (step + 1) % loss_step == 0:\n",
        "            train_score = model.predictor(Variable(X_train))\n",
        "            test_score = model.predictor(Variable(X_test))\n",
        "            train_ndcg = ndcg(y_train, train_score.data)\n",
        "            test_ndcg = ndcg(y_test, test_score.data)\n",
        "            train_ndcgs.append(train_ndcg)\n",
        "            test_ndcgs.append(test_ndcg)\n",
        "           # print(\"step: {}\".format(step + 1))\n",
        "           # print(\"NDCG@100 | train: {}, test: {}\".format(\n",
        "            #    train_ndcg, test_ndcg))\n",
        "\n",
        "    sns.set_context(\"poster\")\n",
        "    plt.plot(train_ndcgs, label=\"Train\")\n",
        "    plt.plot(test_ndcgs, label=\"Test\")\n",
        "    xx = np.linspace(0, n_iter / loss_step, num=n_iter / loss_step + 1)\n",
        "    labels = np.arange(loss_step, n_iter + 1, loss_step)\n",
        "    plt.xticks(xx, labels, rotation=45)\n",
        "    plt.legend(loc=\"best\")\n",
        "    plt.xlabel(\"step\")\n",
        "    plt.ylabel(\"NDCG@100\")\n",
        "    plt.ylim(0, 1.1)\n",
        "    plt.tight_layout()\n",
        "    plt.show()"
      ],
      "execution_count": 96,
      "outputs": [
        {
          "output_type": "stream",
          "text": [
            "(1, 512)\n"
          ],
          "name": "stdout"
        },
        {
          "output_type": "stream",
          "text": [
            "/usr/local/lib/python3.6/dist-packages/ipykernel_launcher.py:6: DeprecationWarning: This function is deprecated. Please call randint(1, 4 + 1) instead\n",
            "  \n"
          ],
          "name": "stderr"
        },
        {
          "output_type": "error",
          "ename": "InvalidType",
          "evalue": "ignored",
          "traceback": [
            "\u001b[0;31m---------------------------------------------------------------------------\u001b[0m",
            "\u001b[0;31mInvalidType\u001b[0m                               Traceback (most recent call last)",
            "\u001b[0;32m<ipython-input-96-697cb0c2d908>\u001b[0m in \u001b[0;36m<module>\u001b[0;34m()\u001b[0m\n\u001b[1;32m     32\u001b[0m         \u001b[0;31m#print(y_j)\u001b[0m\u001b[0;34m\u001b[0m\u001b[0;34m\u001b[0m\u001b[0m\n\u001b[1;32m     33\u001b[0m         \u001b[0mmodel\u001b[0m\u001b[0;34m.\u001b[0m\u001b[0mzerograds\u001b[0m\u001b[0;34m(\u001b[0m\u001b[0;34m)\u001b[0m\u001b[0;34m\u001b[0m\u001b[0m\n\u001b[0;32m---> 34\u001b[0;31m         \u001b[0mloss\u001b[0m \u001b[0;34m=\u001b[0m \u001b[0mmodel\u001b[0m\u001b[0;34m(\u001b[0m\u001b[0mx_i\u001b[0m\u001b[0;34m,\u001b[0m \u001b[0mx_j\u001b[0m\u001b[0;34m,\u001b[0m \u001b[0my_i\u001b[0m\u001b[0;34m,\u001b[0m \u001b[0my_j\u001b[0m\u001b[0;34m)\u001b[0m\u001b[0;34m\u001b[0m\u001b[0m\n\u001b[0m\u001b[1;32m     35\u001b[0m         \u001b[0mloss\u001b[0m\u001b[0;34m.\u001b[0m\u001b[0mbackward\u001b[0m\u001b[0;34m(\u001b[0m\u001b[0;34m)\u001b[0m\u001b[0;34m\u001b[0m\u001b[0m\n\u001b[1;32m     36\u001b[0m         \u001b[0moptimizer\u001b[0m\u001b[0;34m.\u001b[0m\u001b[0mupdate\u001b[0m\u001b[0;34m(\u001b[0m\u001b[0;34m)\u001b[0m\u001b[0;34m\u001b[0m\u001b[0m\n",
            "\u001b[0;32m/content/RankNet/net.py\u001b[0m in \u001b[0;36m__call__\u001b[0;34m(self, x_i, x_j, t_i, t_j)\u001b[0m\n\u001b[1;32m     25\u001b[0m \u001b[0;34m\u001b[0m\u001b[0m\n\u001b[1;32m     26\u001b[0m     \u001b[0;32mdef\u001b[0m \u001b[0m__call__\u001b[0m\u001b[0;34m(\u001b[0m\u001b[0mself\u001b[0m\u001b[0;34m,\u001b[0m \u001b[0mx_i\u001b[0m\u001b[0;34m,\u001b[0m \u001b[0mx_j\u001b[0m\u001b[0;34m,\u001b[0m \u001b[0mt_i\u001b[0m\u001b[0;34m,\u001b[0m \u001b[0mt_j\u001b[0m\u001b[0;34m)\u001b[0m\u001b[0;34m:\u001b[0m\u001b[0;34m\u001b[0m\u001b[0m\n\u001b[0;32m---> 27\u001b[0;31m         \u001b[0ms_i\u001b[0m \u001b[0;34m=\u001b[0m \u001b[0mself\u001b[0m\u001b[0;34m.\u001b[0m\u001b[0mpredictor\u001b[0m\u001b[0;34m(\u001b[0m\u001b[0mx_i\u001b[0m\u001b[0;34m)\u001b[0m\u001b[0;34m\u001b[0m\u001b[0m\n\u001b[0m\u001b[1;32m     28\u001b[0m         \u001b[0ms_j\u001b[0m \u001b[0;34m=\u001b[0m \u001b[0mself\u001b[0m\u001b[0;34m.\u001b[0m\u001b[0mpredictor\u001b[0m\u001b[0;34m(\u001b[0m\u001b[0mx_j\u001b[0m\u001b[0;34m)\u001b[0m\u001b[0;34m\u001b[0m\u001b[0m\n\u001b[1;32m     29\u001b[0m         \u001b[0ms_diff\u001b[0m \u001b[0;34m=\u001b[0m \u001b[0ms_i\u001b[0m \u001b[0;34m-\u001b[0m \u001b[0ms_j\u001b[0m\u001b[0;34m\u001b[0m\u001b[0m\n",
            "\u001b[0;32m/content/RankNet/net.py\u001b[0m in \u001b[0;36m__call__\u001b[0;34m(self, x)\u001b[0m\n\u001b[1;32m     14\u001b[0m \u001b[0;34m\u001b[0m\u001b[0m\n\u001b[1;32m     15\u001b[0m     \u001b[0;32mdef\u001b[0m \u001b[0m__call__\u001b[0m\u001b[0;34m(\u001b[0m\u001b[0mself\u001b[0m\u001b[0;34m,\u001b[0m \u001b[0mx\u001b[0m\u001b[0;34m)\u001b[0m\u001b[0;34m:\u001b[0m\u001b[0;34m\u001b[0m\u001b[0m\n\u001b[0;32m---> 16\u001b[0;31m         \u001b[0mh1\u001b[0m \u001b[0;34m=\u001b[0m \u001b[0mF\u001b[0m\u001b[0;34m.\u001b[0m\u001b[0mrelu\u001b[0m\u001b[0;34m(\u001b[0m\u001b[0mself\u001b[0m\u001b[0;34m.\u001b[0m\u001b[0ml1\u001b[0m\u001b[0;34m(\u001b[0m\u001b[0mx\u001b[0m\u001b[0;34m)\u001b[0m\u001b[0;34m)\u001b[0m\u001b[0;34m\u001b[0m\u001b[0m\n\u001b[0m\u001b[1;32m     17\u001b[0m         \u001b[0mh2\u001b[0m \u001b[0;34m=\u001b[0m \u001b[0mF\u001b[0m\u001b[0;34m.\u001b[0m\u001b[0mrelu\u001b[0m\u001b[0;34m(\u001b[0m\u001b[0mself\u001b[0m\u001b[0;34m.\u001b[0m\u001b[0ml2\u001b[0m\u001b[0;34m(\u001b[0m\u001b[0mh1\u001b[0m\u001b[0;34m)\u001b[0m\u001b[0;34m)\u001b[0m\u001b[0;34m\u001b[0m\u001b[0m\n\u001b[1;32m     18\u001b[0m         \u001b[0;32mreturn\u001b[0m \u001b[0mself\u001b[0m\u001b[0;34m.\u001b[0m\u001b[0ml3\u001b[0m\u001b[0;34m(\u001b[0m\u001b[0mh2\u001b[0m\u001b[0;34m)\u001b[0m\u001b[0;34m\u001b[0m\u001b[0m\n",
            "\u001b[0;32m/usr/local/lib/python3.6/dist-packages/chainer/links/connection/linear.py\u001b[0m in \u001b[0;36m__call__\u001b[0;34m(self, x)\u001b[0m\n\u001b[1;32m    132\u001b[0m             \u001b[0min_size\u001b[0m \u001b[0;34m=\u001b[0m \u001b[0mfunctools\u001b[0m\u001b[0;34m.\u001b[0m\u001b[0mreduce\u001b[0m\u001b[0;34m(\u001b[0m\u001b[0moperator\u001b[0m\u001b[0;34m.\u001b[0m\u001b[0mmul\u001b[0m\u001b[0;34m,\u001b[0m \u001b[0mx\u001b[0m\u001b[0;34m.\u001b[0m\u001b[0mshape\u001b[0m\u001b[0;34m[\u001b[0m\u001b[0;36m1\u001b[0m\u001b[0;34m:\u001b[0m\u001b[0;34m]\u001b[0m\u001b[0;34m,\u001b[0m \u001b[0;36m1\u001b[0m\u001b[0;34m)\u001b[0m\u001b[0;34m\u001b[0m\u001b[0m\n\u001b[1;32m    133\u001b[0m             \u001b[0mself\u001b[0m\u001b[0;34m.\u001b[0m\u001b[0m_initialize_params\u001b[0m\u001b[0;34m(\u001b[0m\u001b[0min_size\u001b[0m\u001b[0;34m)\u001b[0m\u001b[0;34m\u001b[0m\u001b[0m\n\u001b[0;32m--> 134\u001b[0;31m         \u001b[0;32mreturn\u001b[0m \u001b[0mlinear\u001b[0m\u001b[0;34m.\u001b[0m\u001b[0mlinear\u001b[0m\u001b[0;34m(\u001b[0m\u001b[0mx\u001b[0m\u001b[0;34m,\u001b[0m \u001b[0mself\u001b[0m\u001b[0;34m.\u001b[0m\u001b[0mW\u001b[0m\u001b[0;34m,\u001b[0m \u001b[0mself\u001b[0m\u001b[0;34m.\u001b[0m\u001b[0mb\u001b[0m\u001b[0;34m)\u001b[0m\u001b[0;34m\u001b[0m\u001b[0m\n\u001b[0m",
            "\u001b[0;32m/usr/local/lib/python3.6/dist-packages/chainer/functions/connection/linear.py\u001b[0m in \u001b[0;36mlinear\u001b[0;34m(x, W, b)\u001b[0m\n\u001b[1;32m    232\u001b[0m         \u001b[0margs\u001b[0m \u001b[0;34m=\u001b[0m \u001b[0mx\u001b[0m\u001b[0;34m,\u001b[0m \u001b[0mW\u001b[0m\u001b[0;34m,\u001b[0m \u001b[0mb\u001b[0m\u001b[0;34m\u001b[0m\u001b[0m\n\u001b[1;32m    233\u001b[0m \u001b[0;34m\u001b[0m\u001b[0m\n\u001b[0;32m--> 234\u001b[0;31m     \u001b[0my\u001b[0m\u001b[0;34m,\u001b[0m \u001b[0;34m=\u001b[0m \u001b[0mLinearFunction\u001b[0m\u001b[0;34m(\u001b[0m\u001b[0;34m)\u001b[0m\u001b[0;34m.\u001b[0m\u001b[0mapply\u001b[0m\u001b[0;34m(\u001b[0m\u001b[0margs\u001b[0m\u001b[0;34m)\u001b[0m\u001b[0;34m\u001b[0m\u001b[0m\n\u001b[0m\u001b[1;32m    235\u001b[0m     \u001b[0;32mreturn\u001b[0m \u001b[0my\u001b[0m\u001b[0;34m\u001b[0m\u001b[0m\n",
            "\u001b[0;32m/usr/local/lib/python3.6/dist-packages/chainer/function_node.py\u001b[0m in \u001b[0;36mapply\u001b[0;34m(self, inputs)\u001b[0m\n\u001b[1;32m    241\u001b[0m \u001b[0;34m\u001b[0m\u001b[0m\n\u001b[1;32m    242\u001b[0m         \u001b[0;32mif\u001b[0m \u001b[0mconfiguration\u001b[0m\u001b[0;34m.\u001b[0m\u001b[0mconfig\u001b[0m\u001b[0;34m.\u001b[0m\u001b[0mtype_check\u001b[0m\u001b[0;34m:\u001b[0m\u001b[0;34m\u001b[0m\u001b[0m\n\u001b[0;32m--> 243\u001b[0;31m             \u001b[0mself\u001b[0m\u001b[0;34m.\u001b[0m\u001b[0m_check_data_type_forward\u001b[0m\u001b[0;34m(\u001b[0m\u001b[0min_data\u001b[0m\u001b[0;34m)\u001b[0m\u001b[0;34m\u001b[0m\u001b[0m\n\u001b[0m\u001b[1;32m    244\u001b[0m \u001b[0;34m\u001b[0m\u001b[0m\n\u001b[1;32m    245\u001b[0m         \u001b[0mhooks\u001b[0m \u001b[0;34m=\u001b[0m \u001b[0mchainer\u001b[0m\u001b[0;34m.\u001b[0m\u001b[0mget_function_hooks\u001b[0m\u001b[0;34m(\u001b[0m\u001b[0;34m)\u001b[0m\u001b[0;34m\u001b[0m\u001b[0m\n",
            "\u001b[0;32m/usr/local/lib/python3.6/dist-packages/chainer/function_node.py\u001b[0m in \u001b[0;36m_check_data_type_forward\u001b[0;34m(self, in_data)\u001b[0m\n\u001b[1;32m    326\u001b[0m         \u001b[0min_type\u001b[0m \u001b[0;34m=\u001b[0m \u001b[0mtype_check\u001b[0m\u001b[0;34m.\u001b[0m\u001b[0mget_types\u001b[0m\u001b[0;34m(\u001b[0m\u001b[0min_data\u001b[0m\u001b[0;34m,\u001b[0m \u001b[0;34m'in_types'\u001b[0m\u001b[0;34m,\u001b[0m \u001b[0;32mFalse\u001b[0m\u001b[0;34m)\u001b[0m\u001b[0;34m\u001b[0m\u001b[0m\n\u001b[1;32m    327\u001b[0m         \u001b[0;32mwith\u001b[0m \u001b[0mtype_check\u001b[0m\u001b[0;34m.\u001b[0m\u001b[0mget_function_check_context\u001b[0m\u001b[0;34m(\u001b[0m\u001b[0mself\u001b[0m\u001b[0;34m)\u001b[0m\u001b[0;34m:\u001b[0m\u001b[0;34m\u001b[0m\u001b[0m\n\u001b[0;32m--> 328\u001b[0;31m             \u001b[0mself\u001b[0m\u001b[0;34m.\u001b[0m\u001b[0mcheck_type_forward\u001b[0m\u001b[0;34m(\u001b[0m\u001b[0min_type\u001b[0m\u001b[0;34m)\u001b[0m\u001b[0;34m\u001b[0m\u001b[0m\n\u001b[0m\u001b[1;32m    329\u001b[0m \u001b[0;34m\u001b[0m\u001b[0m\n\u001b[1;32m    330\u001b[0m     \u001b[0;32mdef\u001b[0m \u001b[0mcheck_type_forward\u001b[0m\u001b[0;34m(\u001b[0m\u001b[0mself\u001b[0m\u001b[0;34m,\u001b[0m \u001b[0min_types\u001b[0m\u001b[0;34m)\u001b[0m\u001b[0;34m:\u001b[0m\u001b[0;34m\u001b[0m\u001b[0m\n",
            "\u001b[0;32m/usr/local/lib/python3.6/dist-packages/chainer/functions/connection/linear.py\u001b[0m in \u001b[0;36mcheck_type_forward\u001b[0;34m(self, in_types)\u001b[0m\n\u001b[1;32m     21\u001b[0m             \u001b[0mx_type\u001b[0m\u001b[0;34m.\u001b[0m\u001b[0mndim\u001b[0m \u001b[0;34m==\u001b[0m \u001b[0;36m2\u001b[0m\u001b[0;34m,\u001b[0m\u001b[0;34m\u001b[0m\u001b[0m\n\u001b[1;32m     22\u001b[0m             \u001b[0mw_type\u001b[0m\u001b[0;34m.\u001b[0m\u001b[0mndim\u001b[0m \u001b[0;34m==\u001b[0m \u001b[0;36m2\u001b[0m\u001b[0;34m,\u001b[0m\u001b[0;34m\u001b[0m\u001b[0m\n\u001b[0;32m---> 23\u001b[0;31m             \u001b[0mx_type\u001b[0m\u001b[0;34m.\u001b[0m\u001b[0mshape\u001b[0m\u001b[0;34m[\u001b[0m\u001b[0;36m1\u001b[0m\u001b[0;34m]\u001b[0m \u001b[0;34m==\u001b[0m \u001b[0mw_type\u001b[0m\u001b[0;34m.\u001b[0m\u001b[0mshape\u001b[0m\u001b[0;34m[\u001b[0m\u001b[0;36m1\u001b[0m\u001b[0;34m]\u001b[0m\u001b[0;34m,\u001b[0m\u001b[0;34m\u001b[0m\u001b[0m\n\u001b[0m\u001b[1;32m     24\u001b[0m         )\n\u001b[1;32m     25\u001b[0m         \u001b[0;32mif\u001b[0m \u001b[0mtype_check\u001b[0m\u001b[0;34m.\u001b[0m\u001b[0meval\u001b[0m\u001b[0;34m(\u001b[0m\u001b[0mn_in\u001b[0m\u001b[0;34m)\u001b[0m \u001b[0;34m==\u001b[0m \u001b[0;36m3\u001b[0m\u001b[0;34m:\u001b[0m\u001b[0;34m\u001b[0m\u001b[0m\n",
            "\u001b[0;32m/usr/local/lib/python3.6/dist-packages/chainer/utils/type_check.py\u001b[0m in \u001b[0;36mexpect\u001b[0;34m(*bool_exprs)\u001b[0m\n\u001b[1;32m    522\u001b[0m         \u001b[0;32mfor\u001b[0m \u001b[0mexpr\u001b[0m \u001b[0;32min\u001b[0m \u001b[0mbool_exprs\u001b[0m\u001b[0;34m:\u001b[0m\u001b[0;34m\u001b[0m\u001b[0m\n\u001b[1;32m    523\u001b[0m             \u001b[0;32massert\u001b[0m \u001b[0misinstance\u001b[0m\u001b[0;34m(\u001b[0m\u001b[0mexpr\u001b[0m\u001b[0;34m,\u001b[0m \u001b[0mTestable\u001b[0m\u001b[0;34m)\u001b[0m\u001b[0;34m\u001b[0m\u001b[0m\n\u001b[0;32m--> 524\u001b[0;31m             \u001b[0mexpr\u001b[0m\u001b[0;34m.\u001b[0m\u001b[0mexpect\u001b[0m\u001b[0;34m(\u001b[0m\u001b[0;34m)\u001b[0m\u001b[0;34m\u001b[0m\u001b[0m\n\u001b[0m\u001b[1;32m    525\u001b[0m \u001b[0;34m\u001b[0m\u001b[0m\n\u001b[1;32m    526\u001b[0m \u001b[0;34m\u001b[0m\u001b[0m\n",
            "\u001b[0;32m/usr/local/lib/python3.6/dist-packages/chainer/utils/type_check.py\u001b[0m in \u001b[0;36mexpect\u001b[0;34m(self)\u001b[0m\n\u001b[1;32m    480\u001b[0m             raise InvalidType(\n\u001b[1;32m    481\u001b[0m                 \u001b[0;34m'{0} {1} {2}'\u001b[0m\u001b[0;34m.\u001b[0m\u001b[0mformat\u001b[0m\u001b[0;34m(\u001b[0m\u001b[0mself\u001b[0m\u001b[0;34m.\u001b[0m\u001b[0mlhs\u001b[0m\u001b[0;34m,\u001b[0m \u001b[0mself\u001b[0m\u001b[0;34m.\u001b[0m\u001b[0mexp\u001b[0m\u001b[0;34m,\u001b[0m \u001b[0mself\u001b[0m\u001b[0;34m.\u001b[0m\u001b[0mrhs\u001b[0m\u001b[0;34m)\u001b[0m\u001b[0;34m,\u001b[0m\u001b[0;34m\u001b[0m\u001b[0m\n\u001b[0;32m--> 482\u001b[0;31m                 '{0} {1} {2}'.format(left, self.inv, right))\n\u001b[0m\u001b[1;32m    483\u001b[0m \u001b[0;34m\u001b[0m\u001b[0m\n\u001b[1;32m    484\u001b[0m \u001b[0;34m\u001b[0m\u001b[0m\n",
            "\u001b[0;31mInvalidType\u001b[0m: \nInvalid operation is performed in: LinearFunction (Forward)\n\nExpect: in_types[0].shape[1] == in_types[1].shape[1]\nActual: 512 != 4"
          ]
        }
      ]
    },
    {
      "metadata": {
        "id": "ztgFyMC9lFOO",
        "colab_type": "code",
        "colab": {
          "base_uri": "https://localhost:8080/",
          "height": 34
        },
        "outputId": "009b32f4-416a-4e5d-9279-a5bfbcb666f1"
      },
      "cell_type": "code",
      "source": [
        "%reset"
      ],
      "execution_count": 0,
      "outputs": [
        {
          "output_type": "stream",
          "text": [
            "Once deleted, variables cannot be recovered. Proceed (y/[n])? y\n"
          ],
          "name": "stdout"
        }
      ]
    },
    {
      "metadata": {
        "id": "VvAx6VNPkP47",
        "colab_type": "code",
        "colab": {
          "base_uri": "https://localhost:8080/",
          "height": 34
        },
        "outputId": "1ff1055a-89b9-48e2-e4e3-e61a0f65cd76"
      },
      "cell_type": "code",
      "source": [
        "!ls"
      ],
      "execution_count": 4,
      "outputs": [
        {
          "output_type": "stream",
          "text": [
            "RankNet  sample_data  train-v2.0.json  train-v2.0.json.1  wget-log  wget-log.1\n"
          ],
          "name": "stdout"
        }
      ]
    }
  ]
}