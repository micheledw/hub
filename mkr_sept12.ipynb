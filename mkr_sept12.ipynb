{
  "nbformat": 4,
  "nbformat_minor": 0,
  "metadata": {
    "colab": {
      "name": "mkr-sept11vb.ipynb",
      "version": "0.3.2",
      "provenance": [],
      "include_colab_link": true
    },
    "kernelspec": {
      "name": "python3",
      "display_name": "Python 3"
    }
  },
  "cells": [
    {
      "cell_type": "markdown",
      "metadata": {
        "id": "view-in-github",
        "colab_type": "text"
      },
      "source": [
        "[View in Colaboratory](https://colab.research.google.com/github/micheledw/hub/blob/master/mkr_sept12.ipynb)"
      ]
    },
    {
      "metadata": {
        "id": "gqXYLRHYVFre",
        "colab_type": "code",
        "colab": {
          "base_uri": "https://localhost:8080/",
          "height": 68
        },
        "outputId": "f9471cd1-9a6f-433e-d559-e90016a33a93"
      },
      "cell_type": "code",
      "source": [
        "%reset\n",
        "#%cd RankNet\n",
        "# Install the latest Tensorflow version.\n",
        "!pip3 install --quiet \"tensorflow>=1.7\"\n",
        "# Install TF-Hub.\n",
        "!pip3 install --quiet tensorflow-hub\n",
        "!pip3 install --quiet seaborn\n",
        "!pip3 install --quiet chainer\n",
        "#!pip3 install --quiet net\n",
        "import pandas \n",
        "import tensorflow as tf\n",
        "import tensorflow_hub as hub\n",
        "import matplotlib.pyplot as plt\n",
        "import numpy as np\n",
        "import os\n",
        "import pandas as pd\n",
        "import re\n",
        "import seaborn as sns\n",
        "import numpy as np\n",
        "from chainer import Variable, optimizers\n",
        "from sklearn.cross_validation import train_test_split\n",
        "import matplotlib.pyplot as plt\n",
        "import seaborn as sns\n",
        "import nltk\n",
        "import json\n",
        "nltk.download('punkt')\n",
        "from keras import backend\n",
        "from keras.layers import Activation, Dense, Input, Subtract\n",
        "from keras.models import Model\n",
        "\n",
        "\n",
        "\n",
        "\n"
      ],
      "execution_count": 73,
      "outputs": [
        {
          "output_type": "stream",
          "text": [
            "Once deleted, variables cannot be recovered. Proceed (y/[n])? y\n",
            "[nltk_data] Downloading package punkt to /root/nltk_data...\n",
            "[nltk_data]   Package punkt is already up-to-date!\n"
          ],
          "name": "stdout"
        }
      ]
    },
    {
      "metadata": {
        "id": "wyprMeGlkq50",
        "colab_type": "code",
        "colab": {}
      },
      "cell_type": "code",
      "source": [
        "np.random.seed(0)\n",
        "n_dim = 5\n",
        "n_rank = 5\n",
        "n_sample = 8\n",
        "sigma = 5.\n",
        "n_iter = 20\n",
        "n_hidden = 5\n",
        "loss_step = 1\n",
        "train_ndcgs = []\n",
        "test_ndcgs = []"
      ],
      "execution_count": 0,
      "outputs": []
    },
    {
      "metadata": {
        "id": "8ffrQwFZMWic",
        "colab_type": "code",
        "colab": {
          "base_uri": "https://localhost:8080/",
          "height": 51
        },
        "outputId": "a37f5e45-bf24-4279-83d8-0c9cbb5aa0ee"
      },
      "cell_type": "code",
      "source": [
        "#!git clone 'https://github.com/szdr/RankNet.git'\n",
        "%cd RankNet\n",
        "\n",
        "import net"
      ],
      "execution_count": 75,
      "outputs": [
        {
          "output_type": "stream",
          "text": [
            "[Errno 2] No such file or directory: 'RankNet'\n",
            "/content/RankNet\n"
          ],
          "name": "stdout"
        }
      ]
    },
    {
      "metadata": {
        "id": "ky6D20paVyDx",
        "colab_type": "code",
        "colab": {}
      },
      "cell_type": "code",
      "source": [
        "module_url = \"https://tfhub.dev/google/universal-sentence-encoder/2\" #@param [\"https://tfhub.dev/google/universal-sentence-encoder/2\", \"https://tfhub.dev/google/universal-sentence-encoder-large/3\"]\n",
        "  "
      ],
      "execution_count": 0,
      "outputs": []
    },
    {
      "metadata": {
        "id": "FJMFf7hYqnlh",
        "colab_type": "code",
        "colab": {}
      },
      "cell_type": "code",
      "source": [
        "embed = hub.Module(module_url)"
      ],
      "execution_count": 0,
      "outputs": []
    },
    {
      "metadata": {
        "id": "hNg3G4v1qJrC",
        "colab_type": "code",
        "colab": {}
      },
      "cell_type": "code",
      "source": [
        "datastore=!wget https://rajpurkar.github.io/SQuAD-explorer/dataset/train-v2.0.json\n",
        "############################3this command will load the first question in the first paragraph\n",
        "\n",
        "\n",
        "with open(\"train-v2.0.json\", 'r') as f:\n",
        "     datastore = json.load(f)\n",
        "\n",
        "\n",
        "############################3this command will load the first question in the first paragraph\n",
        "sentence =datastore['data'][0]['paragraphs'][0]['qas'][1]['question']\n",
        "\n",
        "################### this will parse the context paragph to different sentences\n",
        "paragraph=datastore['data'][0]['paragraphs'][0]['context']\n",
        "words = []\n",
        "separators = ['.',',',':',';']\n",
        "oldValue = 0\n",
        "for value in range(len(paragraph)):\n",
        "    if paragraph[value] in separators:\n",
        "        words.append(paragraph[oldValue:value+1])\n",
        "        oldValue = value+2\n",
        "#####divide the paragrpah into senetnces\"\n",
        "from nltk import tokenize\n",
        "tf.logging.set_verbosity(tf.logging.ERROR)\n",
        "a5=tokenize.sent_tokenize(paragraph)\n"
      ],
      "execution_count": 0,
      "outputs": []
    },
    {
      "metadata": {
        "id": "YPo9aksZsTGI",
        "colab_type": "code",
        "colab": {}
      },
      "cell_type": "code",
      "source": [
        "###### calculate the similarity using an encoder\n",
        "for i in a5:\n",
        "   messages = [sentence, i]\n",
        "   with tf.Session() as session:\n",
        "        session.run([tf.global_variables_initializer(), tf.tables_initializer()])\n",
        "        message_embeddings = session.run(embed(messages))\n",
        "  \n",
        "  \n",
        " \n"
      ],
      "execution_count": 0,
      "outputs": []
    },
    {
      "metadata": {
        "id": "SCjVkM7SrD6p",
        "colab_type": "code",
        "colab": {
          "base_uri": "https://localhost:8080/",
          "height": 54
        },
        "outputId": "35843880-445f-4f44-db6e-8f1f9f5f5fce"
      },
      "cell_type": "code",
      "source": [
        "import matplotlib.pyplot as plt\n",
        "import numpy as np\n",
        "\n",
        "\n",
        "plt.imshow((message_embeddings[1:200,1:200]), cmap='hot', interpolation='nearest')\n",
        "plt.show()"
      ],
      "execution_count": 88,
      "outputs": [
        {
          "output_type": "display_data",
          "data": {
            "image/png": "[encoded data removed]",
            "text/plain": [
              "<matplotlib.figure.Figure at 0x7f42c8be0f28>"
            ]
          },
          "metadata": {
            "tags": []
          }
        }
      ]
    },
    {
      "metadata": {
        "id": "L5a2jr5r2Gwd",
        "colab_type": "code",
        "colab": {}
      },
      "cell_type": "code",
      "source": [
        "print(message_embeddings[1:200,1:200])"
      ],
      "execution_count": 0,
      "outputs": []
    },
    {
      "metadata": {
        "id": "nykHctxL2Gh9",
        "colab_type": "code",
        "colab": {}
      },
      "cell_type": "code",
      "source": [
        ""
      ],
      "execution_count": 0,
      "outputs": []
    },
    {
      "metadata": {
        "id": "uTk_XYIVEi4r",
        "colab_type": "code",
        "colab": {}
      },
      "cell_type": "code",
      "source": [
        "n_sample=512\n",
        "def make_dataset(n_dim, n_rank, n_sample, sigma):\n",
        "    #w = np.random.randn(n_dim)\n",
        "      X=message_embeddings\n",
        "    #X = np.array(X).astype(np.float32)\n",
        "      ys = np.random.random_integers(4, size=n_sample)\n",
        "      ys = np.inner(message_embeddings, message_embeddings)\n",
        "   # ys = np.reshape(np.array(ys), (-1, 1))\n",
        "      return X, ys\n",
        "  \n",
        "  \n",
        "\n"
      ],
      "execution_count": 0,
      "outputs": []
    },
    {
      "metadata": {
        "id": "yTUTjWeWmdOV",
        "colab_type": "code",
        "colab": {}
      },
      "cell_type": "code",
      "source": [
        "def ndcg(y_true, y_score, k=100):\n",
        "    y_true = y_true.ravel()\n",
        "    y_score = y_score.ravel()\n",
        "    y_true_sorted = sorted(y_true, reverse=True)\n",
        "    ideal_dcg = 0\n",
        "    for i in range(k):\n",
        "        ideal_dcg += (2 ** y_true_sorted[i] - 1.) / np.log2(i + 2)\n",
        "    dcg = 0\n",
        "    argsort_indices = np.argsort(y_score)[::-1]\n",
        "    for i in range(k):\n",
        "        dcg += (2 ** y_true[argsort_indices[i]] - 1.) / np.log2(i + 2)\n",
        "    ndcg = dcg / ideal_dcg\n",
        "    return ndcg"
      ],
      "execution_count": 0,
      "outputs": []
    },
    {
      "metadata": {
        "id": "d2ctkosfkQHm",
        "colab_type": "code",
        "colab": {}
      },
      "cell_type": "code",
      "source": [
        "if __name__ == '__main__':\n",
        "    np.random.seed(0)\n",
        "    n_dim = 4\n",
        "    n_rank = 5\n",
        "    n_sample = 512\n",
        "    sigma = 5.\n",
        "    X, ys = make_dataset(n_dim, n_rank, n_sample, sigma)\n",
        "    X_train, X_test, y_train, y_test = train_test_split(X, ys, test_size=0.33)\n",
        "\n",
        "    n_iter = 2000\n",
        "    n_hidden = 50\n",
        "    loss_step = 50\n",
        "    N_train = np.shape(X_train)[0]\n",
        "\n",
        "    model = net.RankNet(net.MLP(n_dim, n_hidden))\n",
        "    optimizer = optimizers.Adam()\n",
        "    optimizer.setup(model)\n",
        "\n",
        "    N_train = np.shape(X_train)[0]\n",
        "    train_ndcgs = []\n",
        "    test_ndcgs = []\n",
        "    for step in range(n_iter):\n",
        "        i, j = np.random.randint(N_train, size=2)\n",
        "        x_i = Variable(X_train[i].reshape(1, -1))\n",
        "        print(x_i.shape)\n",
        "       # print(x_i)\n",
        "        x_j = Variable(X_train[j].reshape(1, -1))\n",
        "      #  print(x_j.shape)\n",
        "        y_i = Variable(y_train[i])\n",
        "       # print(y_i.shape)\n",
        "        y_j = Variable(y_train[j])\n",
        "        #print(y_j)\n",
        "        model.zerograds()\n",
        "        loss = model(x_i, x_j, y_i, y_j)\n",
        "        loss.backward()\n",
        "        optimizer.update()\n",
        "        if (step + 1) % loss_step == 0:\n",
        "            train_score = model.predictor(Variable(X_train))\n",
        "            test_score = model.predictor(Variable(X_test))\n",
        "            train_ndcg = ndcg(y_train, train_score.data)\n",
        "            test_ndcg = ndcg(y_test, test_score.data)\n",
        "            train_ndcgs.append(train_ndcg)\n",
        "            test_ndcgs.append(test_ndcg)\n",
        "           # print(\"step: {}\".format(step + 1))\n",
        "           # print(\"NDCG@100 | train: {}, test: {}\".format(\n",
        "            #    train_ndcg, test_ndcg))\n",
        "\n",
        "    sns.set_context(\"poster\")\n",
        "    plt.plot(train_ndcgs, label=\"Train\")\n",
        "    plt.plot(test_ndcgs, label=\"Test\")\n",
        "    xx = np.linspace(0, n_iter / loss_step, num=n_iter / loss_step + 1)\n",
        "    labels = np.arange(loss_step, n_iter + 1, loss_step)\n",
        "    plt.xticks(xx, labels, rotation=45)\n",
        "    plt.legend(loc=\"best\")\n",
        "    plt.xlabel(\"step\")\n",
        "    plt.ylabel(\"NDCG@100\")\n",
        "    plt.ylim(0, 1.1)\n",
        "    plt.tight_layout()\n",
        "    plt.show()"
      ],
      "execution_count": 0,
      "outputs": []
    },
    {
      "metadata": {
        "id": "ztgFyMC9lFOO",
        "colab_type": "code",
        "colab": {
          "base_uri": "https://localhost:8080/",
          "height": 34
        },
        "outputId": "009b32f4-416a-4e5d-9279-a5bfbcb666f1"
      },
      "cell_type": "code",
      "source": [
        "%reset"
      ],
      "execution_count": 0,
      "outputs": [
        {
          "output_type": "stream",
          "text": [
            "Once deleted, variables cannot be recovered. Proceed (y/[n])? y\n"
          ],
          "name": "stdout"
        }
      ]
    },
    {
      "metadata": {
        "id": "VvAx6VNPkP47",
        "colab_type": "code",
        "colab": {
          "base_uri": "https://localhost:8080/",
          "height": 34
        },
        "outputId": "1ff1055a-89b9-48e2-e4e3-e61a0f65cd76"
      },
      "cell_type": "code",
      "source": [
        "!ls"
      ],
      "execution_count": 4,
      "outputs": [
        {
          "output_type": "stream",
          "text": [
            "RankNet  sample_data  train-v2.0.json  train-v2.0.json.1  wget-log  wget-log.1\n"
          ],
          "name": "stdout"
        }
      ]
    }
  ]
}